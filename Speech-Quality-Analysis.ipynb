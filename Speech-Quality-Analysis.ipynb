{
 "cells": [
  {
   "cell_type": "code",
   "execution_count": null,
   "metadata": {},
   "outputs": [],
   "source": [
    "#This file was built to analyse the output result files of https://github.com/merkisam/test-web-speech-api-de\n",
    "\n",
    "#The following steps are applyed:\n",
    "#1. Import of required libaries\n",
    "#2. Creation of the comparsion List called (comparison)\n",
    "#3. Loading of file list in dataPath (data)\n",
    "#4. Creating of the resultArray for inserting the anaylsis result\n",
    "#5. Iteration over each file\n",
    "#5.1 Extraction of paramter: gender/age/isProvidedDictionary\n",
    "#5.2 Enumeration over words in line\n",
    "#5.2.1 Calculation of diffrent string distances and increasing count when over a certain treshold\n",
    "#6. Insertion of result into Panda Dataframe and conversion to numeric values\n",
    "#7. Separation of dataset by gender/age and isProvidedDictionary\n",
    "#8. Combination of separated data sets\n",
    "#9. Visualization of result"
   ]
  },
  {
   "cell_type": "code",
   "execution_count": 69,
   "metadata": {},
   "outputs": [
    {
     "name": "stdout",
     "output_type": "stream",
     "text": [
      "wordCount: 44\n",
      "Grösse\n"
     ]
    },
    {
     "data": {
      "text/plain": [
       "[array(['2022-04-06 10-29-17-final.txt', '2022-04-06 12-57-24-final.txt',\n",
       "        '2022-04-08 18-03-30-final.txt', '2022-04-12 09-29-07-final.txt',\n",
       "        '2022-04-14 14-59-45-final.txt', '2022-04-16 18-44-00-final.txt',\n",
       "        '2022-04-17 13-16-32-final.txt', '2022-04-17 13-18-00-final.txt',\n",
       "        '2022-04-17 13-21-22-final.txt', '2022-04-17 13-23-54-final.txt'],\n",
       "       dtype='<U29'),\n",
       " array(['male', 'male', 'male', 'female', 'male', 'female', 'male',\n",
       "        'female', 'male', 'female'], dtype='<U29'),\n",
       " array(['young', 'old', 'young', 'young', 'young', 'young', 'young', 'old',\n",
       "        'old', 'young'], dtype='<U29'),\n",
       " array([1, 0, 0, 1, 0, 1, 0, 1, 0, 1]),\n",
       " array([44, 44, 44, 44, 44, 44, 44, 44, 44, 44]),\n",
       " array([21, 21, 19, 22, 16, 21, 19, 21, 18, 21]),\n",
       " array([33, 37, 30, 38, 30, 37, 33, 35, 34, 36]),\n",
       " array([39, 41, 36, 41, 33, 40, 34, 40, 36, 38]),\n",
       " array([42, 40, 41, 41, 36, 42, 36, 42, 37, 40]),\n",
       " array([41, 40, 38, 41, 36, 42, 36, 42, 37, 40]),\n",
       " array([37, 38, 35, 38, 33, 39, 33, 39, 35, 37])]"
      ]
     },
     "execution_count": 69,
     "metadata": {},
     "output_type": "execute_result"
    }
   ],
   "source": [
    "#1. Import of required libaries\n",
    "from os import listdir\n",
    "from os.path import isfile, join\n",
    "import numpy as np\n",
    "import nltk\n",
    "import re\n",
    "\n",
    "import pandas as pd\n",
    "pd.set_option('mode.use_inf_as_na', True)\n",
    "import warnings\n",
    "warnings.filterwarnings('ignore')\n",
    "\n",
    "#2. Creation of the comparsion List called (comparison)\n",
    "comparisonCount = 0\n",
    "comparison = [\n",
    "    [\"Lokalisation\", \"Haut\", \"des\", \"Kopfes\"],\n",
    "    [\"Seitenangabe\", \"zum\", \"Präparat\", \"Links\"],\n",
    "    [\"Gewebe\", \"Frisch\"],\n",
    "    [\"Operationsverfahren\", \"Exzision\"],\n",
    "    [\"Mitentfernte\", \"Strukturen\", \"Lymphknoten\"],\n",
    "    [\"Grösse\", \"30\", \"x\", \"20\", \"x\", \"10\", \"Millimeter\"],\n",
    "    [\"Orientierung\", \"des\", \"Präparats\", \"Fadenmarkierung,\", \"Medial\", \"Lateral\"],\n",
    "    [\"Einbettung\", \"Kranial\", \"nach\", \"kaudal\"],\n",
    "    [\"Veränderung\", \"Schnittfläche\", \"auffällig\"],\n",
    "    [\"Schnittfläche\", \"Derb-Weiss\"],\n",
    "    [\"Makroskopische\", \"Resektionsränder\", \"Kein\", \"Befall\"],\n",
    "    [\"Komplette\", \"Einbettung\", \"Ja\"],\n",
    "]\n",
    "\n",
    "for lidx, line in enumerate(comparison):\n",
    "    comparisonCount += len(line)\n",
    "print(\"wordCount: \" + str(comparisonCount))\n",
    "print(comparison[5][0])\n",
    "\n",
    "#3. Loading of file list in dataPath (data)\n",
    "dataPath = 'data'\n",
    "fileList = np.array([f for f in listdir(dataPath) if isfile(join(dataPath, f))])\n",
    "\n",
    "#4. Creating of the resultArray for inserting the anaylsis result\n",
    "resultArr = [fileList, \n",
    "             np.full_like(fileList, ''), #gender\n",
    "             np.full_like(fileList, ''), #young/old\n",
    "             np.full_like(fileList, 0).astype(np.int), #isProvidedDictionary\n",
    "             np.full_like(fileList, 0).astype(np.int), #wordCount\n",
    "             np.full_like(fileList, 0).astype(np.int), #equalCount\n",
    "             np.full_like(fileList, 0).astype(np.int), #preProz\n",
    "             np.full_like(fileList, 0).astype(np.int), #levensteinDist < 3\n",
    "             np.full_like(fileList, 0).astype(np.int), #JaroDist > 0.70\n",
    "             np.full_like(fileList, 0).astype(np.int), #JaroDist > 0.75\n",
    "             np.full_like(fileList, 0).astype(np.int), #JaroDist > 0.80\n",
    "            ]\n",
    "\n",
    "#5. Iteration over each file\n",
    "for idx, fileName in enumerate(resultArr[0]):\n",
    "    #print(fileName)\n",
    "    file = open(dataPath + '/' + fileName, mode='r')\n",
    "    fileCont = file.read().splitlines()\n",
    "    \n",
    "    for lidx, line in enumerate(fileCont):\n",
    "        #5.1 Extraction of paramter: gender/age/isProvidedDictionary\n",
    "        if(lidx == 0):\n",
    "            #reading gender\n",
    "            resultArr[1][idx] = fileCont[lidx]\n",
    "        if(lidx == 1):\n",
    "            #reading age\n",
    "            resultArr[2][idx] = fileCont[lidx]\n",
    "        if(lidx == 2):\n",
    "            #reading isProvidedDictionary\n",
    "            resultArr[3][idx] = fileCont[lidx]\n",
    "        if(lidx > 3):\n",
    "            #handle text-lines\n",
    "            #Split by word\n",
    "            lineParts = fileCont[lidx].strip().split(' ')\n",
    "            resultArr[4][idx] += len(lineParts)\n",
    "            #Iterate words\n",
    "            if(len(comparison[lidx - 4]) != len(lineParts)):\n",
    "                #printing all lines that were not comparable because of different word length\n",
    "                print(comparison[lidx - 4])\n",
    "                print(lineParts)\n",
    "                print(resultArr[4][idx])\n",
    "            #5.2.1 Calculation of diffrent string distances and increasing count when over a certain treshold \n",
    "            for widx, word in enumerate(lineParts):\n",
    "                wordComp = comparison[lidx - 4][widx]\n",
    "                #print(wordComp + \" ?= \" + word)\n",
    "                if(wordComp == word):\n",
    "                    resultArr[5][idx] = resultArr[5][idx] + 1\n",
    "                word = re.sub('[^A-Za-z0-9]+', '', word).lower()\n",
    "                wordComp = re.sub('[^A-Za-z0-9]+', '', wordComp).lower()\n",
    "                if(wordComp == word):\n",
    "                    resultArr[6][idx] = resultArr[6][idx] + 1\n",
    "                if(nltk.distance.edit_distance(wordComp, word) < 3):\n",
    "                    resultArr[7][idx] = resultArr[7][idx] + 1\n",
    "                if(nltk.distance.jaro_winkler_similarity(wordComp, word) > 0.70):\n",
    "                    resultArr[8][idx] = resultArr[8][idx] + 1\n",
    "                if(nltk.distance.jaro_winkler_similarity(wordComp, word) > 0.75):\n",
    "                    resultArr[9][idx] = resultArr[9][idx] + 1\n",
    "                if(nltk.distance.jaro_winkler_similarity(wordComp, word) > 0.80):\n",
    "                    resultArr[10][idx] = resultArr[10][idx] + 1\n",
    "    file.close()\n",
    "resultArr"
   ]
  },
  {
   "cell_type": "code",
   "execution_count": 70,
   "metadata": {},
   "outputs": [
    {
     "data": {
      "text/html": [
       "<div>\n",
       "<style scoped>\n",
       "    .dataframe tbody tr th:only-of-type {\n",
       "        vertical-align: middle;\n",
       "    }\n",
       "\n",
       "    .dataframe tbody tr th {\n",
       "        vertical-align: top;\n",
       "    }\n",
       "\n",
       "    .dataframe thead th {\n",
       "        text-align: right;\n",
       "    }\n",
       "</style>\n",
       "<table border=\"1\" class=\"dataframe\">\n",
       "  <thead>\n",
       "    <tr style=\"text-align: right;\">\n",
       "      <th></th>\n",
       "      <th>WithGlossar</th>\n",
       "      <th>WordCount</th>\n",
       "      <th>EqualCount</th>\n",
       "      <th>EqPreProz</th>\n",
       "      <th>Leven&lt;3</th>\n",
       "      <th>JW0.70</th>\n",
       "      <th>JW0.75</th>\n",
       "      <th>JW0.80</th>\n",
       "      <th>old</th>\n",
       "      <th>young</th>\n",
       "      <th>female</th>\n",
       "      <th>male</th>\n",
       "    </tr>\n",
       "  </thead>\n",
       "  <tbody>\n",
       "    <tr>\n",
       "      <th>count</th>\n",
       "      <td>10.000000</td>\n",
       "      <td>10.0</td>\n",
       "      <td>10.000000</td>\n",
       "      <td>10.000000</td>\n",
       "      <td>10.000000</td>\n",
       "      <td>10.000000</td>\n",
       "      <td>10.000000</td>\n",
       "      <td>10.000000</td>\n",
       "      <td>10.000000</td>\n",
       "      <td>10.000000</td>\n",
       "      <td>10.000000</td>\n",
       "      <td>10.000000</td>\n",
       "    </tr>\n",
       "    <tr>\n",
       "      <th>mean</th>\n",
       "      <td>0.500000</td>\n",
       "      <td>100.0</td>\n",
       "      <td>45.227273</td>\n",
       "      <td>77.954545</td>\n",
       "      <td>85.909091</td>\n",
       "      <td>90.227273</td>\n",
       "      <td>89.318182</td>\n",
       "      <td>82.727273</td>\n",
       "      <td>0.300000</td>\n",
       "      <td>0.700000</td>\n",
       "      <td>0.400000</td>\n",
       "      <td>0.600000</td>\n",
       "    </tr>\n",
       "    <tr>\n",
       "      <th>std</th>\n",
       "      <td>0.527046</td>\n",
       "      <td>0.0</td>\n",
       "      <td>4.211195</td>\n",
       "      <td>6.432706</td>\n",
       "      <td>6.586989</td>\n",
       "      <td>5.572174</td>\n",
       "      <td>5.362224</td>\n",
       "      <td>5.160420</td>\n",
       "      <td>0.483046</td>\n",
       "      <td>0.483046</td>\n",
       "      <td>0.516398</td>\n",
       "      <td>0.516398</td>\n",
       "    </tr>\n",
       "    <tr>\n",
       "      <th>min</th>\n",
       "      <td>0.000000</td>\n",
       "      <td>100.0</td>\n",
       "      <td>36.363636</td>\n",
       "      <td>68.181818</td>\n",
       "      <td>75.000000</td>\n",
       "      <td>81.818182</td>\n",
       "      <td>81.818182</td>\n",
       "      <td>75.000000</td>\n",
       "      <td>0.000000</td>\n",
       "      <td>0.000000</td>\n",
       "      <td>0.000000</td>\n",
       "      <td>0.000000</td>\n",
       "    </tr>\n",
       "    <tr>\n",
       "      <th>25%</th>\n",
       "      <td>0.000000</td>\n",
       "      <td>100.0</td>\n",
       "      <td>43.181818</td>\n",
       "      <td>75.000000</td>\n",
       "      <td>81.818182</td>\n",
       "      <td>85.795455</td>\n",
       "      <td>84.659091</td>\n",
       "      <td>79.545455</td>\n",
       "      <td>0.000000</td>\n",
       "      <td>0.250000</td>\n",
       "      <td>0.000000</td>\n",
       "      <td>0.000000</td>\n",
       "    </tr>\n",
       "    <tr>\n",
       "      <th>50%</th>\n",
       "      <td>0.500000</td>\n",
       "      <td>100.0</td>\n",
       "      <td>47.727273</td>\n",
       "      <td>78.409091</td>\n",
       "      <td>87.500000</td>\n",
       "      <td>92.045455</td>\n",
       "      <td>90.909091</td>\n",
       "      <td>84.090909</td>\n",
       "      <td>0.000000</td>\n",
       "      <td>1.000000</td>\n",
       "      <td>0.000000</td>\n",
       "      <td>1.000000</td>\n",
       "    </tr>\n",
       "    <tr>\n",
       "      <th>75%</th>\n",
       "      <td>1.000000</td>\n",
       "      <td>100.0</td>\n",
       "      <td>47.727273</td>\n",
       "      <td>83.522727</td>\n",
       "      <td>90.909091</td>\n",
       "      <td>94.886364</td>\n",
       "      <td>93.181818</td>\n",
       "      <td>86.363636</td>\n",
       "      <td>0.750000</td>\n",
       "      <td>1.000000</td>\n",
       "      <td>1.000000</td>\n",
       "      <td>1.000000</td>\n",
       "    </tr>\n",
       "    <tr>\n",
       "      <th>max</th>\n",
       "      <td>1.000000</td>\n",
       "      <td>100.0</td>\n",
       "      <td>50.000000</td>\n",
       "      <td>86.363636</td>\n",
       "      <td>93.181818</td>\n",
       "      <td>95.454545</td>\n",
       "      <td>95.454545</td>\n",
       "      <td>88.636364</td>\n",
       "      <td>1.000000</td>\n",
       "      <td>1.000000</td>\n",
       "      <td>1.000000</td>\n",
       "      <td>1.000000</td>\n",
       "    </tr>\n",
       "  </tbody>\n",
       "</table>\n",
       "</div>"
      ],
      "text/plain": [
       "       WithGlossar  WordCount  EqualCount  EqPreProz    Leven<3     JW0.70  \\\n",
       "count    10.000000       10.0   10.000000  10.000000  10.000000  10.000000   \n",
       "mean      0.500000      100.0   45.227273  77.954545  85.909091  90.227273   \n",
       "std       0.527046        0.0    4.211195   6.432706   6.586989   5.572174   \n",
       "min       0.000000      100.0   36.363636  68.181818  75.000000  81.818182   \n",
       "25%       0.000000      100.0   43.181818  75.000000  81.818182  85.795455   \n",
       "50%       0.500000      100.0   47.727273  78.409091  87.500000  92.045455   \n",
       "75%       1.000000      100.0   47.727273  83.522727  90.909091  94.886364   \n",
       "max       1.000000      100.0   50.000000  86.363636  93.181818  95.454545   \n",
       "\n",
       "          JW0.75     JW0.80        old      young     female       male  \n",
       "count  10.000000  10.000000  10.000000  10.000000  10.000000  10.000000  \n",
       "mean   89.318182  82.727273   0.300000   0.700000   0.400000   0.600000  \n",
       "std     5.362224   5.160420   0.483046   0.483046   0.516398   0.516398  \n",
       "min    81.818182  75.000000   0.000000   0.000000   0.000000   0.000000  \n",
       "25%    84.659091  79.545455   0.000000   0.250000   0.000000   0.000000  \n",
       "50%    90.909091  84.090909   0.000000   1.000000   0.000000   1.000000  \n",
       "75%    93.181818  86.363636   0.750000   1.000000   1.000000   1.000000  \n",
       "max    95.454545  88.636364   1.000000   1.000000   1.000000   1.000000  "
      ]
     },
     "execution_count": 70,
     "metadata": {},
     "output_type": "execute_result"
    }
   ],
   "source": [
    "#6. Insertion of result into Panda Dataframe and conversion to numeric values\n",
    "resultNp = np.array(resultArr)\n",
    "df = pd.DataFrame(resultNp.T, columns = ['File','Gender','Age', 'WithGlossar', 'WordCount', 'EqualCount', 'EqPreProz', 'Leven<3','JW0.70','JW0.75','JW0.80'])\n",
    "df[\"old\"] = (df[\"Age\"] == 'old').astype(int)\n",
    "df[\"young\"] = (df[\"Age\"] == 'young').astype(int)\n",
    "df[\"female\"] = (df[\"Gender\"] == 'female').astype(int)\n",
    "df[\"male\"] = (df[\"Gender\"] == 'male').astype(int)\n",
    "df[\"WithGlossar\"] = pd.to_numeric(df[\"WithGlossar\"])\n",
    "df[\"WordCount\"] = 100 / 44 * pd.to_numeric(df[\"WordCount\"])\n",
    "df[\"EqualCount\"] = 100 / 44 * pd.to_numeric(df[\"EqualCount\"])\n",
    "df[\"EqPreProz\"] = 100 / 44 * pd.to_numeric(df[\"EqPreProz\"])\n",
    "df[\"Leven<3\"] = 100 / 44 * pd.to_numeric(df[\"Leven<3\"])\n",
    "df[\"JW0.70\"] = 100 / 44 * pd.to_numeric(df[\"JW0.70\"])\n",
    "df[\"JW0.75\"] = 100 / 44 * pd.to_numeric(df[\"JW0.75\"])\n",
    "df[\"JW0.80\"] = 100 / 44 * pd.to_numeric(df[\"JW0.80\"])\n",
    "df.describe()"
   ]
  },
  {
   "cell_type": "code",
   "execution_count": 71,
   "metadata": {},
   "outputs": [
    {
     "data": {
      "text/plain": [
       "File            object\n",
       "Gender          object\n",
       "Age             object\n",
       "WithGlossar      int64\n",
       "WordCount      float64\n",
       "EqualCount     float64\n",
       "EqPreProz      float64\n",
       "Leven<3        float64\n",
       "JW0.70         float64\n",
       "JW0.75         float64\n",
       "JW0.80         float64\n",
       "old              int32\n",
       "young            int32\n",
       "female           int32\n",
       "male             int32\n",
       "dtype: object"
      ]
     },
     "execution_count": 71,
     "metadata": {},
     "output_type": "execute_result"
    }
   ],
   "source": [
    "df.dtypes"
   ]
  },
  {
   "cell_type": "code",
   "execution_count": 72,
   "metadata": {},
   "outputs": [
    {
     "data": {
      "text/html": [
       "<div>\n",
       "<style scoped>\n",
       "    .dataframe tbody tr th:only-of-type {\n",
       "        vertical-align: middle;\n",
       "    }\n",
       "\n",
       "    .dataframe tbody tr th {\n",
       "        vertical-align: top;\n",
       "    }\n",
       "\n",
       "    .dataframe thead th {\n",
       "        text-align: right;\n",
       "    }\n",
       "</style>\n",
       "<table border=\"1\" class=\"dataframe\">\n",
       "  <thead>\n",
       "    <tr style=\"text-align: right;\">\n",
       "      <th></th>\n",
       "      <th>WithGlossar</th>\n",
       "      <th>WordCount</th>\n",
       "      <th>EqualCount</th>\n",
       "      <th>EqPreProz</th>\n",
       "      <th>Leven&lt;3</th>\n",
       "      <th>JW0.70</th>\n",
       "      <th>JW0.75</th>\n",
       "      <th>JW0.80</th>\n",
       "      <th>old</th>\n",
       "      <th>young</th>\n",
       "      <th>female</th>\n",
       "      <th>male</th>\n",
       "    </tr>\n",
       "  </thead>\n",
       "  <tbody>\n",
       "    <tr>\n",
       "      <th>0</th>\n",
       "      <td>1</td>\n",
       "      <td>100.0</td>\n",
       "      <td>47.727273</td>\n",
       "      <td>75.000000</td>\n",
       "      <td>88.636364</td>\n",
       "      <td>95.454545</td>\n",
       "      <td>93.181818</td>\n",
       "      <td>84.090909</td>\n",
       "      <td>0</td>\n",
       "      <td>1</td>\n",
       "      <td>0</td>\n",
       "      <td>1</td>\n",
       "    </tr>\n",
       "    <tr>\n",
       "      <th>1</th>\n",
       "      <td>0</td>\n",
       "      <td>100.0</td>\n",
       "      <td>47.727273</td>\n",
       "      <td>84.090909</td>\n",
       "      <td>93.181818</td>\n",
       "      <td>90.909091</td>\n",
       "      <td>90.909091</td>\n",
       "      <td>86.363636</td>\n",
       "      <td>1</td>\n",
       "      <td>0</td>\n",
       "      <td>0</td>\n",
       "      <td>1</td>\n",
       "    </tr>\n",
       "    <tr>\n",
       "      <th>2</th>\n",
       "      <td>0</td>\n",
       "      <td>100.0</td>\n",
       "      <td>43.181818</td>\n",
       "      <td>68.181818</td>\n",
       "      <td>81.818182</td>\n",
       "      <td>93.181818</td>\n",
       "      <td>86.363636</td>\n",
       "      <td>79.545455</td>\n",
       "      <td>0</td>\n",
       "      <td>1</td>\n",
       "      <td>0</td>\n",
       "      <td>1</td>\n",
       "    </tr>\n",
       "    <tr>\n",
       "      <th>3</th>\n",
       "      <td>1</td>\n",
       "      <td>100.0</td>\n",
       "      <td>50.000000</td>\n",
       "      <td>86.363636</td>\n",
       "      <td>93.181818</td>\n",
       "      <td>93.181818</td>\n",
       "      <td>93.181818</td>\n",
       "      <td>86.363636</td>\n",
       "      <td>0</td>\n",
       "      <td>1</td>\n",
       "      <td>1</td>\n",
       "      <td>0</td>\n",
       "    </tr>\n",
       "    <tr>\n",
       "      <th>4</th>\n",
       "      <td>0</td>\n",
       "      <td>100.0</td>\n",
       "      <td>36.363636</td>\n",
       "      <td>68.181818</td>\n",
       "      <td>75.000000</td>\n",
       "      <td>81.818182</td>\n",
       "      <td>81.818182</td>\n",
       "      <td>75.000000</td>\n",
       "      <td>0</td>\n",
       "      <td>1</td>\n",
       "      <td>0</td>\n",
       "      <td>1</td>\n",
       "    </tr>\n",
       "    <tr>\n",
       "      <th>5</th>\n",
       "      <td>1</td>\n",
       "      <td>100.0</td>\n",
       "      <td>47.727273</td>\n",
       "      <td>84.090909</td>\n",
       "      <td>90.909091</td>\n",
       "      <td>95.454545</td>\n",
       "      <td>95.454545</td>\n",
       "      <td>88.636364</td>\n",
       "      <td>0</td>\n",
       "      <td>1</td>\n",
       "      <td>1</td>\n",
       "      <td>0</td>\n",
       "    </tr>\n",
       "    <tr>\n",
       "      <th>6</th>\n",
       "      <td>0</td>\n",
       "      <td>100.0</td>\n",
       "      <td>43.181818</td>\n",
       "      <td>75.000000</td>\n",
       "      <td>77.272727</td>\n",
       "      <td>81.818182</td>\n",
       "      <td>81.818182</td>\n",
       "      <td>75.000000</td>\n",
       "      <td>0</td>\n",
       "      <td>1</td>\n",
       "      <td>0</td>\n",
       "      <td>1</td>\n",
       "    </tr>\n",
       "    <tr>\n",
       "      <th>7</th>\n",
       "      <td>1</td>\n",
       "      <td>100.0</td>\n",
       "      <td>47.727273</td>\n",
       "      <td>79.545455</td>\n",
       "      <td>90.909091</td>\n",
       "      <td>95.454545</td>\n",
       "      <td>95.454545</td>\n",
       "      <td>88.636364</td>\n",
       "      <td>1</td>\n",
       "      <td>0</td>\n",
       "      <td>1</td>\n",
       "      <td>0</td>\n",
       "    </tr>\n",
       "    <tr>\n",
       "      <th>8</th>\n",
       "      <td>0</td>\n",
       "      <td>100.0</td>\n",
       "      <td>40.909091</td>\n",
       "      <td>77.272727</td>\n",
       "      <td>81.818182</td>\n",
       "      <td>84.090909</td>\n",
       "      <td>84.090909</td>\n",
       "      <td>79.545455</td>\n",
       "      <td>1</td>\n",
       "      <td>0</td>\n",
       "      <td>0</td>\n",
       "      <td>1</td>\n",
       "    </tr>\n",
       "    <tr>\n",
       "      <th>9</th>\n",
       "      <td>1</td>\n",
       "      <td>100.0</td>\n",
       "      <td>47.727273</td>\n",
       "      <td>81.818182</td>\n",
       "      <td>86.363636</td>\n",
       "      <td>90.909091</td>\n",
       "      <td>90.909091</td>\n",
       "      <td>84.090909</td>\n",
       "      <td>0</td>\n",
       "      <td>1</td>\n",
       "      <td>1</td>\n",
       "      <td>0</td>\n",
       "    </tr>\n",
       "  </tbody>\n",
       "</table>\n",
       "</div>"
      ],
      "text/plain": [
       "   WithGlossar  WordCount  EqualCount  EqPreProz    Leven<3     JW0.70  \\\n",
       "0            1      100.0   47.727273  75.000000  88.636364  95.454545   \n",
       "1            0      100.0   47.727273  84.090909  93.181818  90.909091   \n",
       "2            0      100.0   43.181818  68.181818  81.818182  93.181818   \n",
       "3            1      100.0   50.000000  86.363636  93.181818  93.181818   \n",
       "4            0      100.0   36.363636  68.181818  75.000000  81.818182   \n",
       "5            1      100.0   47.727273  84.090909  90.909091  95.454545   \n",
       "6            0      100.0   43.181818  75.000000  77.272727  81.818182   \n",
       "7            1      100.0   47.727273  79.545455  90.909091  95.454545   \n",
       "8            0      100.0   40.909091  77.272727  81.818182  84.090909   \n",
       "9            1      100.0   47.727273  81.818182  86.363636  90.909091   \n",
       "\n",
       "      JW0.75     JW0.80  old  young  female  male  \n",
       "0  93.181818  84.090909    0      1       0     1  \n",
       "1  90.909091  86.363636    1      0       0     1  \n",
       "2  86.363636  79.545455    0      1       0     1  \n",
       "3  93.181818  86.363636    0      1       1     0  \n",
       "4  81.818182  75.000000    0      1       0     1  \n",
       "5  95.454545  88.636364    0      1       1     0  \n",
       "6  81.818182  75.000000    0      1       0     1  \n",
       "7  95.454545  88.636364    1      0       1     0  \n",
       "8  84.090909  79.545455    1      0       0     1  \n",
       "9  90.909091  84.090909    0      1       1     0  "
      ]
     },
     "execution_count": 72,
     "metadata": {},
     "output_type": "execute_result"
    }
   ],
   "source": [
    "dfNumber = df.select_dtypes(include=np.number)\n",
    "dfNumber"
   ]
  },
  {
   "cell_type": "code",
   "execution_count": 73,
   "metadata": {},
   "outputs": [
    {
     "data": {
      "text/plain": [
       "<AxesSubplot:>"
      ]
     },
     "execution_count": 73,
     "metadata": {},
     "output_type": "execute_result"
    },
    {
     "data": {
      "image/png": "[encoded data removed]",
      "text/plain": [
       "<Figure size 720x288 with 1 Axes>"
      ]
     },
     "metadata": {
      "needs_background": "light"
     },
     "output_type": "display_data"
    }
   ],
   "source": [
    "dfNumber.plot(figsize=(10,4))"
   ]
  },
  {
   "cell_type": "code",
   "execution_count": 75,
   "metadata": {},
   "outputs": [
    {
     "data": {
      "text/plain": [
       "<AxesSubplot:>"
      ]
     },
     "execution_count": 75,
     "metadata": {},
     "output_type": "execute_result"
    },
    {
     "data": {
      "image/png": "[encoded data removed]",
      "text/plain": [
       "<Figure size 720x288 with 1 Axes>"
      ]
     },
     "metadata": {
      "needs_background": "light"
     },
     "output_type": "display_data"
    }
   ],
   "source": [
    "dfNumber.T.plot(figsize=(10,4))"
   ]
  },
  {
   "cell_type": "code",
   "execution_count": 76,
   "metadata": {},
   "outputs": [
    {
     "data": {
      "text/plain": [
       "<AxesSubplot:>"
      ]
     },
     "execution_count": 76,
     "metadata": {},
     "output_type": "execute_result"
    },
    {
     "data": {
      "image/png": "[encoded data removed]",
      "text/plain": [
       "<Figure size 720x288 with 1 Axes>"
      ]
     },
     "metadata": {
      "needs_background": "light"
     },
     "output_type": "display_data"
    }
   ],
   "source": [
    "df.mean().plot(kind='bar', figsize=(10,4))"
   ]
  },
  {
   "cell_type": "code",
   "execution_count": 81,
   "metadata": {},
   "outputs": [
    {
     "data": {
      "text/plain": [
       "<AxesSubplot:>"
      ]
     },
     "execution_count": 81,
     "metadata": {},
     "output_type": "execute_result"
    },
    {
     "data": {
      "image/png": "[encoded data removed]",
      "text/plain": [
       "<Figure size 720x288 with 1 Axes>"
      ]
     },
     "metadata": {
      "needs_background": "light"
     },
     "output_type": "display_data"
    }
   ],
   "source": [
    "#7. Separation of dataset by gender/age and isProvidedDictionary\n",
    "dfNumberWithout = dfNumber[dfNumber['WithGlossar'] == 0]\n",
    "dfNumberWithout.describe()\n",
    "dfNumberWithout[[\"WordCount\", \"EqualCount\", 'EqPreProz', \"Leven<3\", \"JW0.70\", \"JW0.75\", \"JW0.80\"]].mean().plot(kind='bar', figsize=(10,4))"
   ]
  },
  {
   "cell_type": "code",
   "execution_count": 82,
   "metadata": {},
   "outputs": [
    {
     "data": {
      "text/plain": [
       "<AxesSubplot:>"
      ]
     },
     "execution_count": 82,
     "metadata": {},
     "output_type": "execute_result"
    },
    {
     "data": {
      "image/png": "[encoded data removed]",
      "text/plain": [
       "<Figure size 720x288 with 1 Axes>"
      ]
     },
     "metadata": {
      "needs_background": "light"
     },
     "output_type": "display_data"
    }
   ],
   "source": [
    "#7. Separation of dataset by gender/age and isProvidedDictionary\n",
    "dfNumberWith = dfNumber[dfNumber['WithGlossar'] == 1]\n",
    "dfNumberWith.describe()\n",
    "dfNumberWith[[\"WordCount\", \"EqualCount\", 'EqPreProz', \"Leven<3\", \"JW0.70\", \"JW0.75\", \"JW0.80\"]].mean().plot(kind='bar', figsize=(10,4))"
   ]
  },
  {
   "cell_type": "code",
   "execution_count": 83,
   "metadata": {},
   "outputs": [
    {
     "data": {
      "text/plain": [
       "<AxesSubplot:>"
      ]
     },
     "execution_count": 83,
     "metadata": {},
     "output_type": "execute_result"
    },
    {
     "data": {
      "image/png": "[encoded data removed]",
      "text/plain": [
       "<Figure size 720x288 with 1 Axes>"
      ]
     },
     "metadata": {
      "needs_background": "light"
     },
     "output_type": "display_data"
    }
   ],
   "source": [
    "#7. Separation of dataset by gender/age and isProvidedDictionary\n",
    "dfOld = dfNumber[dfNumber['old'] == 1]\n",
    "dfOld.describe()\n",
    "dfOld[[\"WordCount\", \"EqualCount\", 'EqPreProz', \"Leven<3\", \"JW0.70\", \"JW0.75\", \"JW0.80\"]].mean().plot(kind='bar', figsize=(10,4))"
   ]
  },
  {
   "cell_type": "code",
   "execution_count": 85,
   "metadata": {},
   "outputs": [
    {
     "data": {
      "text/plain": [
       "<AxesSubplot:>"
      ]
     },
     "execution_count": 85,
     "metadata": {},
     "output_type": "execute_result"
    },
    {
     "data": {
      "image/png": "[encoded data removed]",
      "text/plain": [
       "<Figure size 720x288 with 1 Axes>"
      ]
     },
     "metadata": {
      "needs_background": "light"
     },
     "output_type": "display_data"
    }
   ],
   "source": [
    "#7. Separation of dataset by gender/age and isProvidedDictionary\n",
    "dfYoung = dfNumber[dfNumber['old'] == 0]\n",
    "dfYoung.describe()\n",
    "dfYoung[[\"WordCount\", \"EqualCount\", 'EqPreProz', \"Leven<3\", \"JW0.70\", \"JW0.75\", \"JW0.80\"]].mean().plot(kind='bar', figsize=(10,4))"
   ]
  },
  {
   "cell_type": "code",
   "execution_count": 86,
   "metadata": {},
   "outputs": [
    {
     "data": {
      "text/plain": [
       "<AxesSubplot:>"
      ]
     },
     "execution_count": 86,
     "metadata": {},
     "output_type": "execute_result"
    },
    {
     "data": {
      "image/png": "[encoded data removed]",
      "text/plain": [
       "<Figure size 720x288 with 1 Axes>"
      ]
     },
     "metadata": {
      "needs_background": "light"
     },
     "output_type": "display_data"
    }
   ],
   "source": [
    "#7. Separation of dataset by gender/age and isProvidedDictionary\n",
    "dfFemale = dfNumber[dfNumber['male'] == 0]\n",
    "dfFemale.describe()\n",
    "dfFemale[[\"WordCount\", \"EqualCount\", 'EqPreProz', \"Leven<3\", \"JW0.70\", \"JW0.75\", \"JW0.80\"]].mean().plot(kind='bar', figsize=(10,4))"
   ]
  },
  {
   "cell_type": "code",
   "execution_count": 87,
   "metadata": {},
   "outputs": [
    {
     "data": {
      "text/plain": [
       "<AxesSubplot:>"
      ]
     },
     "execution_count": 87,
     "metadata": {},
     "output_type": "execute_result"
    },
    {
     "data": {
      "image/png": "[encoded data removed]",
      "text/plain": [
       "<Figure size 720x288 with 1 Axes>"
      ]
     },
     "metadata": {
      "needs_background": "light"
     },
     "output_type": "display_data"
    }
   ],
   "source": [
    "#7. Separation of dataset by gender/age and isProvidedDictionary\n",
    "dfMale = dfNumber[dfNumber['male'] == 1]\n",
    "dfMale.describe()\n",
    "dfMale[[\"WordCount\", \"EqualCount\", 'EqPreProz', \"Leven<3\", \"JW0.70\", \"JW0.75\", \"JW0.80\"]].mean().plot(kind='bar', figsize=(10,4))"
   ]
  },
  {
   "cell_type": "code",
   "execution_count": 107,
   "metadata": {},
   "outputs": [
    {
     "data": {
      "text/html": [
       "<div>\n",
       "<style scoped>\n",
       "    .dataframe tbody tr th:only-of-type {\n",
       "        vertical-align: middle;\n",
       "    }\n",
       "\n",
       "    .dataframe tbody tr th {\n",
       "        vertical-align: top;\n",
       "    }\n",
       "\n",
       "    .dataframe thead th {\n",
       "        text-align: right;\n",
       "    }\n",
       "</style>\n",
       "<table border=\"1\" class=\"dataframe\">\n",
       "  <thead>\n",
       "    <tr style=\"text-align: right;\">\n",
       "      <th></th>\n",
       "      <th>WithoutGlossar</th>\n",
       "      <th>WithGlossar</th>\n",
       "      <th>Female</th>\n",
       "      <th>Male</th>\n",
       "      <th>Young</th>\n",
       "      <th>Older</th>\n",
       "    </tr>\n",
       "  </thead>\n",
       "  <tbody>\n",
       "    <tr>\n",
       "      <th>EqualCount</th>\n",
       "      <td>42.272727</td>\n",
       "      <td>48.181818</td>\n",
       "      <td>48.295455</td>\n",
       "      <td>43.181818</td>\n",
       "      <td>45.129870</td>\n",
       "      <td>45.454545</td>\n",
       "    </tr>\n",
       "    <tr>\n",
       "      <th>EqPreProz</th>\n",
       "      <td>74.545455</td>\n",
       "      <td>81.363636</td>\n",
       "      <td>82.954545</td>\n",
       "      <td>74.621212</td>\n",
       "      <td>76.948052</td>\n",
       "      <td>80.303030</td>\n",
       "    </tr>\n",
       "    <tr>\n",
       "      <th>Leven&lt;3</th>\n",
       "      <td>81.818182</td>\n",
       "      <td>90.000000</td>\n",
       "      <td>90.340909</td>\n",
       "      <td>82.954545</td>\n",
       "      <td>84.740260</td>\n",
       "      <td>88.636364</td>\n",
       "    </tr>\n",
       "    <tr>\n",
       "      <th>JW0.70</th>\n",
       "      <td>86.363636</td>\n",
       "      <td>94.090909</td>\n",
       "      <td>93.750000</td>\n",
       "      <td>87.878788</td>\n",
       "      <td>90.259740</td>\n",
       "      <td>90.151515</td>\n",
       "    </tr>\n",
       "    <tr>\n",
       "      <th>JW0.75</th>\n",
       "      <td>85.000000</td>\n",
       "      <td>93.636364</td>\n",
       "      <td>93.750000</td>\n",
       "      <td>86.363636</td>\n",
       "      <td>88.961039</td>\n",
       "      <td>90.151515</td>\n",
       "    </tr>\n",
       "    <tr>\n",
       "      <th>JW0.80</th>\n",
       "      <td>79.090909</td>\n",
       "      <td>86.363636</td>\n",
       "      <td>86.931818</td>\n",
       "      <td>79.924242</td>\n",
       "      <td>81.818182</td>\n",
       "      <td>84.848485</td>\n",
       "    </tr>\n",
       "  </tbody>\n",
       "</table>\n",
       "</div>"
      ],
      "text/plain": [
       "            WithoutGlossar  WithGlossar     Female       Male      Young  \\\n",
       "EqualCount       42.272727    48.181818  48.295455  43.181818  45.129870   \n",
       "EqPreProz        74.545455    81.363636  82.954545  74.621212  76.948052   \n",
       "Leven<3          81.818182    90.000000  90.340909  82.954545  84.740260   \n",
       "JW0.70           86.363636    94.090909  93.750000  87.878788  90.259740   \n",
       "JW0.75           85.000000    93.636364  93.750000  86.363636  88.961039   \n",
       "JW0.80           79.090909    86.363636  86.931818  79.924242  81.818182   \n",
       "\n",
       "                Older  \n",
       "EqualCount  45.454545  \n",
       "EqPreProz   80.303030  \n",
       "Leven<3     88.636364  \n",
       "JW0.70      90.151515  \n",
       "JW0.75      90.151515  \n",
       "JW0.80      84.848485  "
      ]
     },
     "execution_count": 107,
     "metadata": {},
     "output_type": "execute_result"
    }
   ],
   "source": [
    "#8. Combination of separated data sets\n",
    "groups = np.array([\n",
    "    dfNumberWithout[[\"EqualCount\", 'EqPreProz', \"Leven<3\", \"JW0.70\", \"JW0.75\", \"JW0.80\"]].mean(),\n",
    "    dfNumberWith[[\"EqualCount\", 'EqPreProz', \"Leven<3\", \"JW0.70\", \"JW0.75\", \"JW0.80\"]].mean(),\n",
    "    dfFemale[[\"EqualCount\", 'EqPreProz', \"Leven<3\", \"JW0.70\", \"JW0.75\", \"JW0.80\"]].mean(),\n",
    "    dfMale[[\"EqualCount\", 'EqPreProz', \"Leven<3\", \"JW0.70\", \"JW0.75\", \"JW0.80\"]].mean(),\n",
    "    dfYoung[[\"EqualCount\", 'EqPreProz', \"Leven<3\", \"JW0.70\", \"JW0.75\", \"JW0.80\"]].mean(),\n",
    "    dfOld[[\"EqualCount\", 'EqPreProz', \"Leven<3\", \"JW0.70\", \"JW0.75\", \"JW0.80\"]].mean(),\n",
    "])\n",
    "df2 = pd.DataFrame(groups.T, columns = ['WithoutGlossar','WithGlossar','Female','Male','Young','Older'], index=[\"EqualCount\", 'EqPreProz', \"Leven<3\", \"JW0.70\", \"JW0.75\", \"JW0.80\"])\n",
    "df2"
   ]
  },
  {
   "cell_type": "code",
   "execution_count": 108,
   "metadata": {},
   "outputs": [
    {
     "data": {
      "text/plain": [
       "<AxesSubplot:title={'center':'Matching Words in Percent by Algorithm'}>"
      ]
     },
     "execution_count": 108,
     "metadata": {},
     "output_type": "execute_result"
    },
    {
     "data": {
      "image/png": "[encoded data removed]",
      "text/plain": [
       "<Figure size 720x288 with 1 Axes>"
      ]
     },
     "metadata": {
      "needs_background": "light"
     },
     "output_type": "display_data"
    }
   ],
   "source": [
    "#9. Visualization of result\n",
    "df2.plot(kind='bar', title=\"Matching Words in Percent by Algorithm\", color=['lightgray', 'red', 'bisque', 'gray', 'lightpink', 'lightblue'], figsize=(10,4))"
   ]
  },
  {
   "cell_type": "code",
   "execution_count": 99,
   "metadata": {},
   "outputs": [
    {
     "data": {
      "text/html": [
       "<div>\n",
       "<style scoped>\n",
       "    .dataframe tbody tr th:only-of-type {\n",
       "        vertical-align: middle;\n",
       "    }\n",
       "\n",
       "    .dataframe tbody tr th {\n",
       "        vertical-align: top;\n",
       "    }\n",
       "\n",
       "    .dataframe thead th {\n",
       "        text-align: right;\n",
       "    }\n",
       "</style>\n",
       "<table border=\"1\" class=\"dataframe\">\n",
       "  <thead>\n",
       "    <tr style=\"text-align: right;\">\n",
       "      <th></th>\n",
       "      <th>WithoutGlossar</th>\n",
       "      <th>WithGlossar</th>\n",
       "      <th>Female</th>\n",
       "      <th>Male</th>\n",
       "      <th>Young</th>\n",
       "      <th>Old</th>\n",
       "    </tr>\n",
       "  </thead>\n",
       "  <tbody>\n",
       "    <tr>\n",
       "      <th>EqualCount</th>\n",
       "      <td>43.181818</td>\n",
       "      <td>47.727273</td>\n",
       "      <td>47.727273</td>\n",
       "      <td>43.181818</td>\n",
       "      <td>47.727273</td>\n",
       "      <td>47.727273</td>\n",
       "    </tr>\n",
       "    <tr>\n",
       "      <th>EqPreProz</th>\n",
       "      <td>75.000000</td>\n",
       "      <td>81.818182</td>\n",
       "      <td>82.954545</td>\n",
       "      <td>75.000000</td>\n",
       "      <td>75.000000</td>\n",
       "      <td>79.545455</td>\n",
       "    </tr>\n",
       "    <tr>\n",
       "      <th>Leven&lt;3</th>\n",
       "      <td>81.818182</td>\n",
       "      <td>90.909091</td>\n",
       "      <td>90.909091</td>\n",
       "      <td>81.818182</td>\n",
       "      <td>86.363636</td>\n",
       "      <td>90.909091</td>\n",
       "    </tr>\n",
       "    <tr>\n",
       "      <th>JW0.70</th>\n",
       "      <td>84.090909</td>\n",
       "      <td>95.454545</td>\n",
       "      <td>94.318182</td>\n",
       "      <td>87.500000</td>\n",
       "      <td>93.181818</td>\n",
       "      <td>90.909091</td>\n",
       "    </tr>\n",
       "    <tr>\n",
       "      <th>JW0.75</th>\n",
       "      <td>84.090909</td>\n",
       "      <td>93.181818</td>\n",
       "      <td>94.318182</td>\n",
       "      <td>85.227273</td>\n",
       "      <td>90.909091</td>\n",
       "      <td>90.909091</td>\n",
       "    </tr>\n",
       "    <tr>\n",
       "      <th>JW0.80</th>\n",
       "      <td>79.545455</td>\n",
       "      <td>86.363636</td>\n",
       "      <td>87.500000</td>\n",
       "      <td>79.545455</td>\n",
       "      <td>84.090909</td>\n",
       "      <td>86.363636</td>\n",
       "    </tr>\n",
       "  </tbody>\n",
       "</table>\n",
       "</div>"
      ],
      "text/plain": [
       "            WithoutGlossar  WithGlossar     Female       Male      Young  \\\n",
       "EqualCount       43.181818    47.727273  47.727273  43.181818  47.727273   \n",
       "EqPreProz        75.000000    81.818182  82.954545  75.000000  75.000000   \n",
       "Leven<3          81.818182    90.909091  90.909091  81.818182  86.363636   \n",
       "JW0.70           84.090909    95.454545  94.318182  87.500000  93.181818   \n",
       "JW0.75           84.090909    93.181818  94.318182  85.227273  90.909091   \n",
       "JW0.80           79.545455    86.363636  87.500000  79.545455  84.090909   \n",
       "\n",
       "                  Old  \n",
       "EqualCount  47.727273  \n",
       "EqPreProz   79.545455  \n",
       "Leven<3     90.909091  \n",
       "JW0.70      90.909091  \n",
       "JW0.75      90.909091  \n",
       "JW0.80      86.363636  "
      ]
     },
     "execution_count": 99,
     "metadata": {},
     "output_type": "execute_result"
    }
   ],
   "source": [
    "#8. Combination of separated data sets\n",
    "groups = np.array([\n",
    "    dfNumberWithout[[\"EqualCount\", 'EqPreProz', \"Leven<3\", \"JW0.70\", \"JW0.75\", \"JW0.80\"]].median(),\n",
    "    dfNumberWith[[\"EqualCount\", 'EqPreProz', \"Leven<3\", \"JW0.70\", \"JW0.75\", \"JW0.80\"]].median(),\n",
    "    dfFemale[[\"EqualCount\", 'EqPreProz', \"Leven<3\", \"JW0.70\", \"JW0.75\", \"JW0.80\"]].median(),\n",
    "    dfMale[[\"EqualCount\", 'EqPreProz', \"Leven<3\", \"JW0.70\", \"JW0.75\", \"JW0.80\"]].median(),\n",
    "    dfYoung[[\"EqualCount\", 'EqPreProz', \"Leven<3\", \"JW0.70\", \"JW0.75\", \"JW0.80\"]].median(),\n",
    "    dfOld[[\"EqualCount\", 'EqPreProz', \"Leven<3\", \"JW0.70\", \"JW0.75\", \"JW0.80\"]].median(),\n",
    "])\n",
    "df3 = pd.DataFrame(groups.T, columns = ['WithoutGlossar','WithGlossar','Female','Male','Young','Old'], index=[\"EqualCount\", 'EqPreProz', \"Leven<3\", \"JW0.70\", \"JW0.75\", \"JW0.80\"])\n",
    "df3"
   ]
  },
  {
   "cell_type": "code",
   "execution_count": 100,
   "metadata": {},
   "outputs": [
    {
     "data": {
      "text/plain": [
       "<AxesSubplot:title={'center':'Matching Words in Percent by Algorithm'}>"
      ]
     },
     "execution_count": 100,
     "metadata": {},
     "output_type": "execute_result"
    },
    {
     "data": {
      "image/png": "[encoded data removed]",
      "text/plain": [
       "<Figure size 720x288 with 1 Axes>"
      ]
     },
     "metadata": {
      "needs_background": "light"
     },
     "output_type": "display_data"
    }
   ],
   "source": [
    "#9. Visualization of result\n",
    "df3.plot(kind='bar', title=\"Matching Words in Percent by Algorithm\", color=['lightgray', 'red', 'bisque', 'gray', 'lightpink', 'lightblue'], figsize=(10,4))"
   ]
  },
  {
   "cell_type": "code",
   "execution_count": null,
   "metadata": {},
   "outputs": [],
   "source": []
  },
  {
   "cell_type": "code",
   "execution_count": null,
   "metadata": {},
   "outputs": [],
   "source": []
  }
 ],
 "metadata": {
  "kernelspec": {
   "display_name": "Python 3",
   "language": "python",
   "name": "python3"
  },
  "language_info": {
   "codemirror_mode": {
    "name": "ipython",
    "version": 3
   },
   "file_extension": ".py",
   "mimetype": "text/x-python",
   "name": "python",
   "nbconvert_exporter": "python",
   "pygments_lexer": "ipython3",
   "version": "3.8.5"
  }
 },
 "nbformat": 4,
 "nbformat_minor": 4
}

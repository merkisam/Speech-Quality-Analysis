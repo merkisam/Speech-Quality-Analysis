{
 "cells": [
  {
   "cell_type": "code",
   "execution_count": null,
   "metadata": {},
   "outputs": [],
   "source": [
    "#This file was built to analyse the output result files of https://github.com/merkisam/test-web-speech-api-de\n",
    "\n",
    "#The following steps are applyed:\n",
    "#1. Import of required libaries\n",
    "#2. Creation of the comparsion List called (comparison)\n",
    "#3. Loading of file list in dataPath (data)\n",
    "#4. Creating of the resultArray for inserting the anaylsis result\n",
    "#5. Iteration over each file\n",
    "#5.1 Extraction of paramter: gender/age/isProvidedDictionary\n",
    "#5.2 Enumeration over words in line\n",
    "#5.2.1 Calculation of diffrent string distances and increasing count when over a certain treshold\n",
    "#6. Insertion of result into Panda Dataframe and conversion to numeric values\n",
    "#7. Separation of dataset by gender/age and isProvidedDictionary\n",
    "#8. Combination of separated data sets\n",
    "#9. Visualization of result"
   ]
  },
  {
   "cell_type": "code",
   "execution_count": 4,
   "metadata": {},
   "outputs": [
    {
     "name": "stdout",
     "output_type": "stream",
     "text": [
      "0.8266666666666667\n",
      "wordCount: 44\n",
      "Grösse\n"
     ]
    },
    {
     "data": {
      "text/plain": [
       "[array(['2022-04-06 10-29-17-final.txt', '2022-04-06 12-57-24-final.txt',\n",
       "        '2022-04-08 18-03-30-final.txt', '2022-04-12 09-29-07-final.txt',\n",
       "        '2022-04-14 14-59-45-final.txt', '2022-04-16 18-44-00-final.txt',\n",
       "        '2022-04-17 13-16-32-final.txt', '2022-04-17 13-18-00-final.txt',\n",
       "        '2022-04-17 13-21-22-final.txt', '2022-04-17 13-23-54-final.txt'],\n",
       "       dtype='<U29'),\n",
       " array(['male', 'male', 'male', 'female', 'male', 'female', 'male',\n",
       "        'female', 'male', 'female'], dtype='<U29'),\n",
       " array(['young', 'old', 'young', 'young', 'young', 'young', 'young', 'old',\n",
       "        'old', 'young'], dtype='<U29'),\n",
       " array([1, 0, 0, 1, 0, 1, 0, 1, 0, 1]),\n",
       " array([44, 44, 44, 44, 44, 44, 44, 44, 44, 44]),\n",
       " array([21, 21, 19, 22, 16, 21, 19, 21, 18, 21]),\n",
       " array([39, 41, 36, 41, 33, 40, 34, 40, 36, 38]),\n",
       " array([42, 40, 41, 41, 36, 42, 36, 42, 37, 40]),\n",
       " array([41, 40, 38, 41, 36, 42, 36, 42, 37, 40]),\n",
       " array([37, 38, 35, 38, 33, 39, 33, 39, 35, 37]),\n",
       " array([34, 39, 33, 39, 31, 38, 33, 38, 35, 37])]"
      ]
     },
     "execution_count": 4,
     "metadata": {},
     "output_type": "execute_result"
    }
   ],
   "source": [
    "#1. Import of required libaries\n",
    "from os import listdir\n",
    "from os.path import isfile, join\n",
    "import numpy as np\n",
    "import nltk\n",
    "import re\n",
    "\n",
    "import pandas as pd\n",
    "pd.set_option('mode.use_inf_as_na', True)\n",
    "import warnings\n",
    "warnings.filterwarnings('ignore')\n",
    "\n",
    "#2. Creation of the comparsion List called (comparison)\n",
    "comparisonCount = 0\n",
    "comparison = [\n",
    "    [\"Lokalisation\", \"Haut\", \"des\", \"Kopfes\"],\n",
    "    [\"Seitenangabe\", \"zum\", \"Präparat\", \"Links\"],\n",
    "    [\"Gewebe\", \"Frisch\"],\n",
    "    [\"Operationsverfahren\", \"Exzision\"],\n",
    "    [\"Mitentfernte\", \"Strukturen\", \"Lymphknoten\"],\n",
    "    [\"Grösse\", \"30\", \"x\", \"20\", \"x\", \"10\", \"Millimeter\"],\n",
    "    [\"Orientierung\", \"des\", \"Präparats\", \"Fadenmarkierung,\", \"Medial\", \"Lateral\"],\n",
    "    [\"Einbettung\", \"Kranial\", \"nach\", \"kaudal\"],\n",
    "    [\"Veränderung\", \"Schnittfläche\", \"auffällig\"],\n",
    "    [\"Schnittfläche\", \"Derb-Weiss\"],\n",
    "    [\"Makroskopische\", \"Resektionsränder\", \"Kein\", \"Befall\"],\n",
    "    [\"Komplette\", \"Einbettung\", \"Ja\"],\n",
    "]\n",
    "\n",
    "for lidx, line in enumerate(comparison):\n",
    "    comparisonCount += len(line)\n",
    "print(\"wordCount: \" + str(comparisonCount))\n",
    "print(comparison[5][0])\n",
    "\n",
    "#3. Loading of file list in dataPath (data)\n",
    "dataPath = 'data'\n",
    "fileList = np.array([f for f in listdir(dataPath) if isfile(join(dataPath, f))])\n",
    "\n",
    "#4. Creating of the resultArray for inserting the anaylsis result\n",
    "resultArr = [fileList, \n",
    "             np.full_like(fileList, ''), #gender\n",
    "             np.full_like(fileList, ''), #young/old\n",
    "             np.full_like(fileList, 0).astype(np.int), #isProvidedDictionary\n",
    "             np.full_like(fileList, 0).astype(np.int), #wordCount\n",
    "             np.full_like(fileList, 0).astype(np.int), #equalCount\n",
    "             np.full_like(fileList, 0).astype(np.int), #levensteinDist < 3\n",
    "             np.full_like(fileList, 0).astype(np.int), #JaroDist > 0.70\n",
    "             np.full_like(fileList, 0).astype(np.int), #JaroDist > 0.75\n",
    "             np.full_like(fileList, 0).astype(np.int), #JaroDist > 0.80\n",
    "            ]\n",
    "\n",
    "#5. Iteration over each file\n",
    "for idx, fileName in enumerate(resultArr[0]):\n",
    "    #print(fileName)\n",
    "    file = open(dataPath + '/' + fileName, mode='r')\n",
    "    fileCont = file.read().splitlines()\n",
    "    \n",
    "    for lidx, line in enumerate(fileCont):\n",
    "        #5.1 Extraction of paramter: gender/age/isProvidedDictionary\n",
    "        if(lidx == 0):\n",
    "            #reading gender\n",
    "            resultArr[1][idx] = fileCont[lidx]\n",
    "        if(lidx == 1):\n",
    "            #reading age\n",
    "            resultArr[2][idx] = fileCont[lidx]\n",
    "        if(lidx == 2):\n",
    "            #reading isProvidedDictionary\n",
    "            resultArr[3][idx] = fileCont[lidx]\n",
    "        if(lidx > 3):\n",
    "            #handle text-lines\n",
    "            #Split by word\n",
    "            lineParts = fileCont[lidx].strip().split(' ')\n",
    "            resultArr[4][idx] += len(lineParts)\n",
    "            #Iterate words\n",
    "            if(len(comparison[lidx - 4]) != len(lineParts)):\n",
    "                #printing all lines that were not comparable because of different word length\n",
    "                print(comparison[lidx - 4])\n",
    "                print(lineParts)\n",
    "                print(resultArr[4][idx])\n",
    "            #5.2.1 Calculation of diffrent string distances and increasing count when over a certain treshold \n",
    "            for widx, word in enumerate(lineParts):\n",
    "                wordComp = comparison[lidx - 4][widx]\n",
    "                #print(wordComp + \" ?= \" + word)\n",
    "                if(wordComp == word):\n",
    "                    resultArr[5][idx] = resultArr[5][idx] + 1\n",
    "                word = re.sub('[^A-Za-z0-9]+', '', word).lower()\n",
    "                wordComp = re.sub('[^A-Za-z0-9]+', '', wordComp).lower()\n",
    "                if(nltk.distance.edit_distance(wordComp, word) < 3):\n",
    "                    resultArr[6][idx] = resultArr[6][idx] + 1\n",
    "                if(nltk.distance.jaro_winkler_similarity(wordComp, word) > 0.70):\n",
    "                    resultArr[7][idx] = resultArr[7][idx] + 1\n",
    "                if(nltk.distance.jaro_winkler_similarity(wordComp, word) > 0.75):\n",
    "                    resultArr[8][idx] = resultArr[8][idx] + 1\n",
    "                if(nltk.distance.jaro_winkler_similarity(wordComp, word) > 0.80):\n",
    "                    resultArr[9][idx] = resultArr[9][idx] + 1\n",
    "    file.close()\n",
    "resultArr"
   ]
  },
  {
   "cell_type": "code",
   "execution_count": 132,
   "metadata": {},
   "outputs": [
    {
     "data": {
      "text/html": [
       "<div>\n",
       "<style scoped>\n",
       "    .dataframe tbody tr th:only-of-type {\n",
       "        vertical-align: middle;\n",
       "    }\n",
       "\n",
       "    .dataframe tbody tr th {\n",
       "        vertical-align: top;\n",
       "    }\n",
       "\n",
       "    .dataframe thead th {\n",
       "        text-align: right;\n",
       "    }\n",
       "</style>\n",
       "<table border=\"1\" class=\"dataframe\">\n",
       "  <thead>\n",
       "    <tr style=\"text-align: right;\">\n",
       "      <th></th>\n",
       "      <th>WithGlossar</th>\n",
       "      <th>WordCount</th>\n",
       "      <th>EqualCount</th>\n",
       "      <th>Leven&lt;3</th>\n",
       "      <th>JW0.70</th>\n",
       "      <th>JW0.75</th>\n",
       "      <th>JW0.80</th>\n",
       "      <th>DiceCoeff0.8</th>\n",
       "      <th>old</th>\n",
       "      <th>young</th>\n",
       "      <th>female</th>\n",
       "      <th>male</th>\n",
       "    </tr>\n",
       "  </thead>\n",
       "  <tbody>\n",
       "    <tr>\n",
       "      <th>count</th>\n",
       "      <td>10.000000</td>\n",
       "      <td>10.0</td>\n",
       "      <td>10.000000</td>\n",
       "      <td>10.000000</td>\n",
       "      <td>10.000000</td>\n",
       "      <td>10.000000</td>\n",
       "      <td>10.000000</td>\n",
       "      <td>10.000000</td>\n",
       "      <td>10.000000</td>\n",
       "      <td>10.000000</td>\n",
       "      <td>10.000000</td>\n",
       "      <td>10.000000</td>\n",
       "    </tr>\n",
       "    <tr>\n",
       "      <th>mean</th>\n",
       "      <td>0.500000</td>\n",
       "      <td>44.0</td>\n",
       "      <td>19.900000</td>\n",
       "      <td>37.800000</td>\n",
       "      <td>39.700000</td>\n",
       "      <td>39.300000</td>\n",
       "      <td>36.400000</td>\n",
       "      <td>35.700000</td>\n",
       "      <td>0.300000</td>\n",
       "      <td>0.700000</td>\n",
       "      <td>0.400000</td>\n",
       "      <td>0.600000</td>\n",
       "    </tr>\n",
       "    <tr>\n",
       "      <th>std</th>\n",
       "      <td>0.527046</td>\n",
       "      <td>0.0</td>\n",
       "      <td>1.852926</td>\n",
       "      <td>2.898275</td>\n",
       "      <td>2.451757</td>\n",
       "      <td>2.359378</td>\n",
       "      <td>2.270585</td>\n",
       "      <td>2.869379</td>\n",
       "      <td>0.483046</td>\n",
       "      <td>0.483046</td>\n",
       "      <td>0.516398</td>\n",
       "      <td>0.516398</td>\n",
       "    </tr>\n",
       "    <tr>\n",
       "      <th>min</th>\n",
       "      <td>0.000000</td>\n",
       "      <td>44.0</td>\n",
       "      <td>16.000000</td>\n",
       "      <td>33.000000</td>\n",
       "      <td>36.000000</td>\n",
       "      <td>36.000000</td>\n",
       "      <td>33.000000</td>\n",
       "      <td>31.000000</td>\n",
       "      <td>0.000000</td>\n",
       "      <td>0.000000</td>\n",
       "      <td>0.000000</td>\n",
       "      <td>0.000000</td>\n",
       "    </tr>\n",
       "    <tr>\n",
       "      <th>25%</th>\n",
       "      <td>0.000000</td>\n",
       "      <td>44.0</td>\n",
       "      <td>19.000000</td>\n",
       "      <td>36.000000</td>\n",
       "      <td>37.750000</td>\n",
       "      <td>37.250000</td>\n",
       "      <td>35.000000</td>\n",
       "      <td>33.250000</td>\n",
       "      <td>0.000000</td>\n",
       "      <td>0.250000</td>\n",
       "      <td>0.000000</td>\n",
       "      <td>0.000000</td>\n",
       "    </tr>\n",
       "    <tr>\n",
       "      <th>50%</th>\n",
       "      <td>0.500000</td>\n",
       "      <td>44.0</td>\n",
       "      <td>21.000000</td>\n",
       "      <td>38.500000</td>\n",
       "      <td>40.500000</td>\n",
       "      <td>40.000000</td>\n",
       "      <td>37.000000</td>\n",
       "      <td>36.000000</td>\n",
       "      <td>0.000000</td>\n",
       "      <td>1.000000</td>\n",
       "      <td>0.000000</td>\n",
       "      <td>1.000000</td>\n",
       "    </tr>\n",
       "    <tr>\n",
       "      <th>75%</th>\n",
       "      <td>1.000000</td>\n",
       "      <td>44.0</td>\n",
       "      <td>21.000000</td>\n",
       "      <td>40.000000</td>\n",
       "      <td>41.750000</td>\n",
       "      <td>41.000000</td>\n",
       "      <td>38.000000</td>\n",
       "      <td>38.000000</td>\n",
       "      <td>0.750000</td>\n",
       "      <td>1.000000</td>\n",
       "      <td>1.000000</td>\n",
       "      <td>1.000000</td>\n",
       "    </tr>\n",
       "    <tr>\n",
       "      <th>max</th>\n",
       "      <td>1.000000</td>\n",
       "      <td>44.0</td>\n",
       "      <td>22.000000</td>\n",
       "      <td>41.000000</td>\n",
       "      <td>42.000000</td>\n",
       "      <td>42.000000</td>\n",
       "      <td>39.000000</td>\n",
       "      <td>39.000000</td>\n",
       "      <td>1.000000</td>\n",
       "      <td>1.000000</td>\n",
       "      <td>1.000000</td>\n",
       "      <td>1.000000</td>\n",
       "    </tr>\n",
       "  </tbody>\n",
       "</table>\n",
       "</div>"
      ],
      "text/plain": [
       "       WithGlossar  WordCount  EqualCount    Leven<3     JW0.70     JW0.75  \\\n",
       "count    10.000000       10.0   10.000000  10.000000  10.000000  10.000000   \n",
       "mean      0.500000       44.0   19.900000  37.800000  39.700000  39.300000   \n",
       "std       0.527046        0.0    1.852926   2.898275   2.451757   2.359378   \n",
       "min       0.000000       44.0   16.000000  33.000000  36.000000  36.000000   \n",
       "25%       0.000000       44.0   19.000000  36.000000  37.750000  37.250000   \n",
       "50%       0.500000       44.0   21.000000  38.500000  40.500000  40.000000   \n",
       "75%       1.000000       44.0   21.000000  40.000000  41.750000  41.000000   \n",
       "max       1.000000       44.0   22.000000  41.000000  42.000000  42.000000   \n",
       "\n",
       "          JW0.80  DiceCoeff0.8        old      young     female       male  \n",
       "count  10.000000     10.000000  10.000000  10.000000  10.000000  10.000000  \n",
       "mean   36.400000     35.700000   0.300000   0.700000   0.400000   0.600000  \n",
       "std     2.270585      2.869379   0.483046   0.483046   0.516398   0.516398  \n",
       "min    33.000000     31.000000   0.000000   0.000000   0.000000   0.000000  \n",
       "25%    35.000000     33.250000   0.000000   0.250000   0.000000   0.000000  \n",
       "50%    37.000000     36.000000   0.000000   1.000000   0.000000   1.000000  \n",
       "75%    38.000000     38.000000   0.750000   1.000000   1.000000   1.000000  \n",
       "max    39.000000     39.000000   1.000000   1.000000   1.000000   1.000000  "
      ]
     },
     "execution_count": 132,
     "metadata": {},
     "output_type": "execute_result"
    }
   ],
   "source": [
    "#6. Insertion of result into Panda Dataframe and conversion to numeric values\n",
    "resultNp = np.array(resultArr)\n",
    "df = pd.DataFrame(resultNp.T, columns = ['File','Gender','Age', 'WithGlossar', 'WordCount', 'EqualCount', 'Leven<3','JW0.70','JW0.75','JW0.80', 'DiceCoeff0.8'])\n",
    "df[\"old\"] = (df[\"Age\"] == 'old').astype(int)\n",
    "df[\"young\"] = (df[\"Age\"] == 'young').astype(int)\n",
    "df[\"female\"] = (df[\"Gender\"] == 'female').astype(int)\n",
    "df[\"male\"] = (df[\"Gender\"] == 'male').astype(int)\n",
    "df[\"WithGlossar\"] = pd.to_numeric(df[\"WithGlossar\"])\n",
    "df[\"WordCount\"] = pd.to_numeric(df[\"WordCount\"])\n",
    "df[\"EqualCount\"] = pd.to_numeric(df[\"EqualCount\"])\n",
    "df[\"Leven<3\"] = pd.to_numeric(df[\"Leven<3\"])\n",
    "df[\"JW0.70\"] = pd.to_numeric(df[\"JW0.70\"])\n",
    "df[\"JW0.75\"] = pd.to_numeric(df[\"JW0.75\"])\n",
    "df[\"JW0.80\"] = pd.to_numeric(df[\"JW0.80\"])\n",
    "df[\"JW0.80\"] = pd.to_numeric(df[\"JW0.80\"])\n",
    "df[\"DiceCoeff0.8\"] = pd.to_numeric(df[\"DiceCoeff0.8\"])\n",
    "df.describe()"
   ]
  },
  {
   "cell_type": "code",
   "execution_count": 133,
   "metadata": {},
   "outputs": [
    {
     "data": {
      "text/plain": [
       "File            object\n",
       "Gender          object\n",
       "Age             object\n",
       "WithGlossar      int64\n",
       "WordCount        int64\n",
       "EqualCount       int64\n",
       "Leven<3          int64\n",
       "JW0.70           int64\n",
       "JW0.75           int64\n",
       "JW0.80           int64\n",
       "DiceCoeff0.8     int64\n",
       "old              int32\n",
       "young            int32\n",
       "female           int32\n",
       "male             int32\n",
       "dtype: object"
      ]
     },
     "execution_count": 133,
     "metadata": {},
     "output_type": "execute_result"
    }
   ],
   "source": [
    "df.dtypes"
   ]
  },
  {
   "cell_type": "code",
   "execution_count": 134,
   "metadata": {},
   "outputs": [
    {
     "data": {
      "text/html": [
       "<div>\n",
       "<style scoped>\n",
       "    .dataframe tbody tr th:only-of-type {\n",
       "        vertical-align: middle;\n",
       "    }\n",
       "\n",
       "    .dataframe tbody tr th {\n",
       "        vertical-align: top;\n",
       "    }\n",
       "\n",
       "    .dataframe thead th {\n",
       "        text-align: right;\n",
       "    }\n",
       "</style>\n",
       "<table border=\"1\" class=\"dataframe\">\n",
       "  <thead>\n",
       "    <tr style=\"text-align: right;\">\n",
       "      <th></th>\n",
       "      <th>WithGlossar</th>\n",
       "      <th>WordCount</th>\n",
       "      <th>EqualCount</th>\n",
       "      <th>Leven&lt;3</th>\n",
       "      <th>JW0.70</th>\n",
       "      <th>JW0.75</th>\n",
       "      <th>JW0.80</th>\n",
       "      <th>DiceCoeff0.8</th>\n",
       "      <th>old</th>\n",
       "      <th>young</th>\n",
       "      <th>female</th>\n",
       "      <th>male</th>\n",
       "    </tr>\n",
       "  </thead>\n",
       "  <tbody>\n",
       "    <tr>\n",
       "      <th>0</th>\n",
       "      <td>1</td>\n",
       "      <td>44</td>\n",
       "      <td>21</td>\n",
       "      <td>39</td>\n",
       "      <td>42</td>\n",
       "      <td>41</td>\n",
       "      <td>37</td>\n",
       "      <td>34</td>\n",
       "      <td>0</td>\n",
       "      <td>1</td>\n",
       "      <td>0</td>\n",
       "      <td>1</td>\n",
       "    </tr>\n",
       "    <tr>\n",
       "      <th>1</th>\n",
       "      <td>0</td>\n",
       "      <td>44</td>\n",
       "      <td>21</td>\n",
       "      <td>41</td>\n",
       "      <td>40</td>\n",
       "      <td>40</td>\n",
       "      <td>38</td>\n",
       "      <td>39</td>\n",
       "      <td>1</td>\n",
       "      <td>0</td>\n",
       "      <td>0</td>\n",
       "      <td>1</td>\n",
       "    </tr>\n",
       "    <tr>\n",
       "      <th>2</th>\n",
       "      <td>0</td>\n",
       "      <td>44</td>\n",
       "      <td>19</td>\n",
       "      <td>36</td>\n",
       "      <td>41</td>\n",
       "      <td>38</td>\n",
       "      <td>35</td>\n",
       "      <td>33</td>\n",
       "      <td>0</td>\n",
       "      <td>1</td>\n",
       "      <td>0</td>\n",
       "      <td>1</td>\n",
       "    </tr>\n",
       "    <tr>\n",
       "      <th>3</th>\n",
       "      <td>1</td>\n",
       "      <td>44</td>\n",
       "      <td>22</td>\n",
       "      <td>41</td>\n",
       "      <td>41</td>\n",
       "      <td>41</td>\n",
       "      <td>38</td>\n",
       "      <td>39</td>\n",
       "      <td>0</td>\n",
       "      <td>1</td>\n",
       "      <td>1</td>\n",
       "      <td>0</td>\n",
       "    </tr>\n",
       "    <tr>\n",
       "      <th>4</th>\n",
       "      <td>0</td>\n",
       "      <td>44</td>\n",
       "      <td>16</td>\n",
       "      <td>33</td>\n",
       "      <td>36</td>\n",
       "      <td>36</td>\n",
       "      <td>33</td>\n",
       "      <td>31</td>\n",
       "      <td>0</td>\n",
       "      <td>1</td>\n",
       "      <td>0</td>\n",
       "      <td>1</td>\n",
       "    </tr>\n",
       "    <tr>\n",
       "      <th>5</th>\n",
       "      <td>1</td>\n",
       "      <td>44</td>\n",
       "      <td>21</td>\n",
       "      <td>40</td>\n",
       "      <td>42</td>\n",
       "      <td>42</td>\n",
       "      <td>39</td>\n",
       "      <td>38</td>\n",
       "      <td>0</td>\n",
       "      <td>1</td>\n",
       "      <td>1</td>\n",
       "      <td>0</td>\n",
       "    </tr>\n",
       "    <tr>\n",
       "      <th>6</th>\n",
       "      <td>0</td>\n",
       "      <td>44</td>\n",
       "      <td>19</td>\n",
       "      <td>34</td>\n",
       "      <td>36</td>\n",
       "      <td>36</td>\n",
       "      <td>33</td>\n",
       "      <td>33</td>\n",
       "      <td>0</td>\n",
       "      <td>1</td>\n",
       "      <td>0</td>\n",
       "      <td>1</td>\n",
       "    </tr>\n",
       "    <tr>\n",
       "      <th>7</th>\n",
       "      <td>1</td>\n",
       "      <td>44</td>\n",
       "      <td>21</td>\n",
       "      <td>40</td>\n",
       "      <td>42</td>\n",
       "      <td>42</td>\n",
       "      <td>39</td>\n",
       "      <td>38</td>\n",
       "      <td>1</td>\n",
       "      <td>0</td>\n",
       "      <td>1</td>\n",
       "      <td>0</td>\n",
       "    </tr>\n",
       "    <tr>\n",
       "      <th>8</th>\n",
       "      <td>0</td>\n",
       "      <td>44</td>\n",
       "      <td>18</td>\n",
       "      <td>36</td>\n",
       "      <td>37</td>\n",
       "      <td>37</td>\n",
       "      <td>35</td>\n",
       "      <td>35</td>\n",
       "      <td>1</td>\n",
       "      <td>0</td>\n",
       "      <td>0</td>\n",
       "      <td>1</td>\n",
       "    </tr>\n",
       "    <tr>\n",
       "      <th>9</th>\n",
       "      <td>1</td>\n",
       "      <td>44</td>\n",
       "      <td>21</td>\n",
       "      <td>38</td>\n",
       "      <td>40</td>\n",
       "      <td>40</td>\n",
       "      <td>37</td>\n",
       "      <td>37</td>\n",
       "      <td>0</td>\n",
       "      <td>1</td>\n",
       "      <td>1</td>\n",
       "      <td>0</td>\n",
       "    </tr>\n",
       "  </tbody>\n",
       "</table>\n",
       "</div>"
      ],
      "text/plain": [
       "   WithGlossar  WordCount  EqualCount  Leven<3  JW0.70  JW0.75  JW0.80  \\\n",
       "0            1         44          21       39      42      41      37   \n",
       "1            0         44          21       41      40      40      38   \n",
       "2            0         44          19       36      41      38      35   \n",
       "3            1         44          22       41      41      41      38   \n",
       "4            0         44          16       33      36      36      33   \n",
       "5            1         44          21       40      42      42      39   \n",
       "6            0         44          19       34      36      36      33   \n",
       "7            1         44          21       40      42      42      39   \n",
       "8            0         44          18       36      37      37      35   \n",
       "9            1         44          21       38      40      40      37   \n",
       "\n",
       "   DiceCoeff0.8  old  young  female  male  \n",
       "0            34    0      1       0     1  \n",
       "1            39    1      0       0     1  \n",
       "2            33    0      1       0     1  \n",
       "3            39    0      1       1     0  \n",
       "4            31    0      1       0     1  \n",
       "5            38    0      1       1     0  \n",
       "6            33    0      1       0     1  \n",
       "7            38    1      0       1     0  \n",
       "8            35    1      0       0     1  \n",
       "9            37    0      1       1     0  "
      ]
     },
     "execution_count": 134,
     "metadata": {},
     "output_type": "execute_result"
    }
   ],
   "source": [
    "dfNumber = df.select_dtypes(include=np.number)\n",
    "dfNumber"
   ]
  },
  {
   "cell_type": "code",
   "execution_count": 135,
   "metadata": {},
   "outputs": [
    {
     "data": {
      "text/plain": [
       "<AxesSubplot:>"
      ]
     },
     "execution_count": 135,
     "metadata": {},
     "output_type": "execute_result"
    },
    {
     "data": {
      "image/png": "[encoded data removed]",
      "text/plain": [
       "<Figure size 432x288 with 1 Axes>"
      ]
     },
     "metadata": {
      "needs_background": "light"
     },
     "output_type": "display_data"
    }
   ],
   "source": [
    "dfNumber.plot()"
   ]
  },
  {
   "cell_type": "code",
   "execution_count": 136,
   "metadata": {},
   "outputs": [
    {
     "data": {
      "text/plain": [
       "<AxesSubplot:>"
      ]
     },
     "execution_count": 136,
     "metadata": {},
     "output_type": "execute_result"
    },
    {
     "data": {
      "image/png": "[encoded data removed]",
      "text/plain": [
       "<Figure size 432x288 with 1 Axes>"
      ]
     },
     "metadata": {
      "needs_background": "light"
     },
     "output_type": "display_data"
    }
   ],
   "source": [
    "dfNumber.T.plot()"
   ]
  },
  {
   "cell_type": "code",
   "execution_count": 137,
   "metadata": {},
   "outputs": [
    {
     "data": {
      "text/plain": [
       "<AxesSubplot:>"
      ]
     },
     "execution_count": 137,
     "metadata": {},
     "output_type": "execute_result"
    },
    {
     "data": {
      "image/png": "[encoded data removed]",
      "text/plain": [
       "<Figure size 432x288 with 1 Axes>"
      ]
     },
     "metadata": {
      "needs_background": "light"
     },
     "output_type": "display_data"
    }
   ],
   "source": [
    "df.mean().plot(kind='bar')"
   ]
  },
  {
   "cell_type": "code",
   "execution_count": 141,
   "metadata": {},
   "outputs": [
    {
     "data": {
      "text/plain": [
       "<AxesSubplot:>"
      ]
     },
     "execution_count": 141,
     "metadata": {},
     "output_type": "execute_result"
    },
    {
     "data": {
      "image/png": "[encoded data removed]",
      "text/plain": [
       "<Figure size 432x288 with 1 Axes>"
      ]
     },
     "metadata": {
      "needs_background": "light"
     },
     "output_type": "display_data"
    }
   ],
   "source": [
    "#7. Separation of dataset by gender/age and isProvidedDictionary\n",
    "dfNumberWithout = dfNumber[dfNumber['WithGlossar'] == 0]\n",
    "dfNumberWithout.describe()\n",
    "dfNumberWithout[[\"WordCount\", \"EqualCount\", \"Leven<3\", \"JW0.70\", \"JW0.75\", \"JW0.80\", 'DiceCoeff0.8']].mean().plot(kind='bar')"
   ]
  },
  {
   "cell_type": "code",
   "execution_count": 142,
   "metadata": {},
   "outputs": [
    {
     "data": {
      "text/plain": [
       "<AxesSubplot:>"
      ]
     },
     "execution_count": 142,
     "metadata": {},
     "output_type": "execute_result"
    },
    {
     "data": {
      "image/png": "[encoded data removed]",
      "text/plain": [
       "<Figure size 432x288 with 1 Axes>"
      ]
     },
     "metadata": {
      "needs_background": "light"
     },
     "output_type": "display_data"
    }
   ],
   "source": [
    "#7. Separation of dataset by gender/age and isProvidedDictionary\n",
    "dfNumberWith = dfNumber[dfNumber['WithGlossar'] == 1]\n",
    "dfNumberWith.describe()\n",
    "dfNumberWith[[\"WordCount\", \"EqualCount\", \"Leven<3\", \"JW0.70\", \"JW0.75\", \"JW0.80\", 'DiceCoeff0.8']].mean().plot(kind='bar')"
   ]
  },
  {
   "cell_type": "code",
   "execution_count": 143,
   "metadata": {},
   "outputs": [
    {
     "data": {
      "text/plain": [
       "<AxesSubplot:>"
      ]
     },
     "execution_count": 143,
     "metadata": {},
     "output_type": "execute_result"
    },
    {
     "data": {
      "image/png": "[encoded data removed]",
      "text/plain": [
       "<Figure size 432x288 with 1 Axes>"
      ]
     },
     "metadata": {
      "needs_background": "light"
     },
     "output_type": "display_data"
    }
   ],
   "source": [
    "#7. Separation of dataset by gender/age and isProvidedDictionary\n",
    "dfOld = dfNumber[dfNumber['old'] == 1]\n",
    "dfOld.describe()\n",
    "dfOld[[\"WordCount\", \"EqualCount\", \"Leven<3\", \"JW0.70\", \"JW0.75\", \"JW0.80\", 'DiceCoeff0.8']].mean().plot(kind='bar')"
   ]
  },
  {
   "cell_type": "code",
   "execution_count": 144,
   "metadata": {},
   "outputs": [
    {
     "data": {
      "text/plain": [
       "<AxesSubplot:>"
      ]
     },
     "execution_count": 144,
     "metadata": {},
     "output_type": "execute_result"
    },
    {
     "data": {
      "image/png": "[encoded data removed]",
      "text/plain": [
       "<Figure size 432x288 with 1 Axes>"
      ]
     },
     "metadata": {
      "needs_background": "light"
     },
     "output_type": "display_data"
    }
   ],
   "source": [
    "#7. Separation of dataset by gender/age and isProvidedDictionary\n",
    "dfYoung = dfNumber[dfNumber['old'] == 0]\n",
    "dfYoung.describe()\n",
    "dfYoung[[\"WordCount\", \"EqualCount\", \"Leven<3\", \"JW0.70\", \"JW0.75\", \"JW0.80\", 'DiceCoeff0.8']].mean().plot(kind='bar')"
   ]
  },
  {
   "cell_type": "code",
   "execution_count": 145,
   "metadata": {},
   "outputs": [
    {
     "data": {
      "text/plain": [
       "<AxesSubplot:>"
      ]
     },
     "execution_count": 145,
     "metadata": {},
     "output_type": "execute_result"
    },
    {
     "data": {
      "image/png": "[encoded data removed]",
      "text/plain": [
       "<Figure size 432x288 with 1 Axes>"
      ]
     },
     "metadata": {
      "needs_background": "light"
     },
     "output_type": "display_data"
    }
   ],
   "source": [
    "#7. Separation of dataset by gender/age and isProvidedDictionary\n",
    "dfFemale = dfNumber[dfNumber['male'] == 0]\n",
    "dfFemale.describe()\n",
    "dfFemale[[\"WordCount\", \"EqualCount\", \"Leven<3\", \"JW0.70\", \"JW0.75\", \"JW0.80\", 'DiceCoeff0.8']].mean().plot(kind='bar')"
   ]
  },
  {
   "cell_type": "code",
   "execution_count": 146,
   "metadata": {},
   "outputs": [
    {
     "data": {
      "text/plain": [
       "<AxesSubplot:>"
      ]
     },
     "execution_count": 146,
     "metadata": {},
     "output_type": "execute_result"
    },
    {
     "data": {
      "image/png": "[encoded data removed]",
      "text/plain": [
       "<Figure size 432x288 with 1 Axes>"
      ]
     },
     "metadata": {
      "needs_background": "light"
     },
     "output_type": "display_data"
    }
   ],
   "source": [
    "#7. Separation of dataset by gender/age and isProvidedDictionary\n",
    "dfMale = dfNumber[dfNumber['male'] == 1]\n",
    "dfMale.describe()\n",
    "dfMale[[\"WordCount\", \"EqualCount\", \"Leven<3\", \"JW0.70\", \"JW0.75\", \"JW0.80\", 'DiceCoeff0.8']].mean().plot(kind='bar')"
   ]
  },
  {
   "cell_type": "code",
   "execution_count": 148,
   "metadata": {},
   "outputs": [
    {
     "data": {
      "text/html": [
       "<div>\n",
       "<style scoped>\n",
       "    .dataframe tbody tr th:only-of-type {\n",
       "        vertical-align: middle;\n",
       "    }\n",
       "\n",
       "    .dataframe tbody tr th {\n",
       "        vertical-align: top;\n",
       "    }\n",
       "\n",
       "    .dataframe thead th {\n",
       "        text-align: right;\n",
       "    }\n",
       "</style>\n",
       "<table border=\"1\" class=\"dataframe\">\n",
       "  <thead>\n",
       "    <tr style=\"text-align: right;\">\n",
       "      <th></th>\n",
       "      <th>WithoutGlossar</th>\n",
       "      <th>WithGlossar</th>\n",
       "      <th>Old</th>\n",
       "      <th>Young</th>\n",
       "      <th>Female</th>\n",
       "      <th>Male</th>\n",
       "    </tr>\n",
       "  </thead>\n",
       "  <tbody>\n",
       "    <tr>\n",
       "      <th>EqualCount</th>\n",
       "      <td>18.6</td>\n",
       "      <td>21.2</td>\n",
       "      <td>21.25</td>\n",
       "      <td>19.000000</td>\n",
       "      <td>20.000000</td>\n",
       "      <td>19.857143</td>\n",
       "    </tr>\n",
       "    <tr>\n",
       "      <th>Leven&lt;3</th>\n",
       "      <td>36.0</td>\n",
       "      <td>39.6</td>\n",
       "      <td>39.75</td>\n",
       "      <td>36.500000</td>\n",
       "      <td>39.000000</td>\n",
       "      <td>37.285714</td>\n",
       "    </tr>\n",
       "    <tr>\n",
       "      <th>JW0.70</th>\n",
       "      <td>38.0</td>\n",
       "      <td>41.4</td>\n",
       "      <td>41.25</td>\n",
       "      <td>38.666667</td>\n",
       "      <td>39.666667</td>\n",
       "      <td>39.714286</td>\n",
       "    </tr>\n",
       "    <tr>\n",
       "      <th>JW0.75</th>\n",
       "      <td>37.4</td>\n",
       "      <td>41.2</td>\n",
       "      <td>41.25</td>\n",
       "      <td>38.000000</td>\n",
       "      <td>39.666667</td>\n",
       "      <td>39.142857</td>\n",
       "    </tr>\n",
       "    <tr>\n",
       "      <th>JW0.80</th>\n",
       "      <td>34.8</td>\n",
       "      <td>38.0</td>\n",
       "      <td>38.25</td>\n",
       "      <td>35.166667</td>\n",
       "      <td>37.333333</td>\n",
       "      <td>36.000000</td>\n",
       "    </tr>\n",
       "    <tr>\n",
       "      <th>DiceCoeff0.8</th>\n",
       "      <td>34.2</td>\n",
       "      <td>37.2</td>\n",
       "      <td>38.00</td>\n",
       "      <td>34.166667</td>\n",
       "      <td>37.333333</td>\n",
       "      <td>35.000000</td>\n",
       "    </tr>\n",
       "  </tbody>\n",
       "</table>\n",
       "</div>"
      ],
      "text/plain": [
       "              WithoutGlossar  WithGlossar    Old      Young     Female  \\\n",
       "EqualCount              18.6         21.2  21.25  19.000000  20.000000   \n",
       "Leven<3                 36.0         39.6  39.75  36.500000  39.000000   \n",
       "JW0.70                  38.0         41.4  41.25  38.666667  39.666667   \n",
       "JW0.75                  37.4         41.2  41.25  38.000000  39.666667   \n",
       "JW0.80                  34.8         38.0  38.25  35.166667  37.333333   \n",
       "DiceCoeff0.8            34.2         37.2  38.00  34.166667  37.333333   \n",
       "\n",
       "                   Male  \n",
       "EqualCount    19.857143  \n",
       "Leven<3       37.285714  \n",
       "JW0.70        39.714286  \n",
       "JW0.75        39.142857  \n",
       "JW0.80        36.000000  \n",
       "DiceCoeff0.8  35.000000  "
      ]
     },
     "execution_count": 148,
     "metadata": {},
     "output_type": "execute_result"
    }
   ],
   "source": [
    "#8. Combination of separated data sets\n",
    "groups = np.array([\n",
    "    dfNumberWithout[[\"EqualCount\", \"Leven<3\", \"JW0.70\", \"JW0.75\", \"JW0.80\", 'DiceCoeff0.8']].mean(),\n",
    "    dfNumberWith[[\"EqualCount\", \"Leven<3\", \"JW0.70\", \"JW0.75\", \"JW0.80\", 'DiceCoeff0.8']].mean(),\n",
    "    dfFemale[[\"EqualCount\", \"Leven<3\", \"JW0.70\", \"JW0.75\", \"JW0.80\", 'DiceCoeff0.8']].mean(),\n",
    "    dfMale[[\"EqualCount\", \"Leven<3\", \"JW0.70\", \"JW0.75\", \"JW0.80\", 'DiceCoeff0.8']].mean(),\n",
    "    dfOld[[\"EqualCount\", \"Leven<3\", \"JW0.70\", \"JW0.75\", \"JW0.80\", 'DiceCoeff0.8']].mean(),\n",
    "    dfYoung[[\"EqualCount\", \"Leven<3\", \"JW0.70\", \"JW0.75\", \"JW0.80\", 'DiceCoeff0.8']].mean(),\n",
    "])\n",
    "df2 = pd.DataFrame(groups.T, columns = ['WithoutGlossar','WithGlossar','Old','Young','Female','Male'], index=[\"EqualCount\", \"Leven<3\", \"JW0.70\", \"JW0.75\", \"JW0.80\", 'DiceCoeff0.8'])\n",
    "df2"
   ]
  },
  {
   "cell_type": "code",
   "execution_count": 149,
   "metadata": {},
   "outputs": [
    {
     "data": {
      "text/plain": [
       "<AxesSubplot:title={'center':'Correct Mean WordCount to String Distance Method'}>"
      ]
     },
     "execution_count": 149,
     "metadata": {},
     "output_type": "execute_result"
    },
    {
     "data": {
      "image/png": "[encoded data removed]",
      "text/plain": [
       "<Figure size 720x288 with 1 Axes>"
      ]
     },
     "metadata": {
      "needs_background": "light"
     },
     "output_type": "display_data"
    }
   ],
   "source": [
    "#9. Visualization of result\n",
    "df2.plot(kind='bar', title=\"Correct Mean WordCount to String Distance Method\", figsize=(10,4))"
   ]
  },
  {
   "cell_type": "code",
   "execution_count": null,
   "metadata": {},
   "outputs": [],
   "source": []
  },
  {
   "cell_type": "code",
   "execution_count": null,
   "metadata": {},
   "outputs": [],
   "source": []
  }
 ],
 "metadata": {
  "kernelspec": {
   "display_name": "Python 3",
   "language": "python",
   "name": "python3"
  },
  "language_info": {
   "codemirror_mode": {
    "name": "ipython",
    "version": 3
   },
   "file_extension": ".py",
   "mimetype": "text/x-python",
   "name": "python",
   "nbconvert_exporter": "python",
   "pygments_lexer": "ipython3",
   "version": "3.8.5"
  }
 },
 "nbformat": 4,
 "nbformat_minor": 4
}
